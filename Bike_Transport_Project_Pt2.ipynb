{
 "cells": [
  {
   "cell_type": "markdown",
   "metadata": {
    "slideshow": {
     "slide_type": "slide"
    }
   },
   "source": [
    "# How Long Do bikers Stay On Bike Transportation?\n",
    "## by Noah Akachi"
   ]
  },
  {
   "cell_type": "markdown",
   "metadata": {
    "slideshow": {
     "slide_type": "slide"
    }
   },
   "source": [
    "\n",
    "## Investigation Overview\n",
    " \n",
    "> My ivnvestigation is supposed to look at how long bikers spent on the bikes. The main focus is on the time spent with the bikes by the people who use bike share for their transportation.\n",
    "\n",
    "## Dataset Overview\n",
    "\n",
    ">The dataset initially contained 183,412 rows and 16 columns of record about individual bike rides  made in a bike-sharing system covering the greater San Francisco Bay area.7 columns were dropped as they were not needed for the analysis and 1 new column was added making the final count of columns a 10. 25,501 rows were removed from the dataset due to inconsistencies or missing information, bringing the final coun tof the rows to 157,911."
   ]
  },
  {
   "cell_type": "code",
   "execution_count": 1,
   "metadata": {
    "slideshow": {
     "slide_type": "skip"
    }
   },
   "outputs": [],
   "source": [
    "# import all packages and set plots to be embedded inline\n",
    "import numpy as np\n",
    "import pandas as pd\n",
    "import matplotlib.pyplot as plt\n",
    "import seaborn as sb\n",
    "\n",
    "%matplotlib inline\n",
    "\n",
    "# suppress warnings from final output\n",
    "import warnings\n",
    "warnings.simplefilter(\"ignore\")"
   ]
  },
  {
   "cell_type": "code",
   "execution_count": 2,
   "metadata": {
    "slideshow": {
     "slide_type": "skip"
    }
   },
   "outputs": [],
   "source": [
    "# load in the dataset into a pandas dataframe\n",
    "bike=pd.read_csv('201902-fordgobike-tripdata.csv')"
   ]
  },
  {
   "cell_type": "code",
   "execution_count": 3,
   "metadata": {
    "slideshow": {
     "slide_type": "skip"
    }
   },
   "outputs": [],
   "source": [
    "s = bike['start_station_longitude'].astype(str)\n",
    "\n",
    "e = bike['end_station_longitude'].astype(str)\n",
    "\n",
    "def strip_char(x):\n",
    "    return x.strip()[1:]\n",
    "    \n",
    "\n",
    "bike['start_station_longitude'] = e.apply(strip_char)\n",
    "bike['end_station_longitude'] = e.apply(strip_char)"
   ]
  },
  {
   "cell_type": "code",
   "execution_count": 4,
   "metadata": {
    "slideshow": {
     "slide_type": "skip"
    }
   },
   "outputs": [],
   "source": [
    "bike['start_station_longitude']=bike['start_station_longitude'].astype(float)\n",
    "\n",
    "bike['end_station_longitude']=bike['end_station_longitude'].astype(float)"
   ]
  },
  {
   "cell_type": "code",
   "execution_count": 5,
   "metadata": {
    "slideshow": {
     "slide_type": "skip"
    }
   },
   "outputs": [],
   "source": [
    "# engineer the distance from the longitude and latitude of the start and end location\n",
    "from math import radians, cos, sin, asin, sqrt\n",
    "def haversine(lon1, lat1, lon2, lat2):\n",
    "    \"\"\"\n",
    "    Calculate the great circle distance between two points \n",
    "    on the earth (specified in decimal degrees)\n",
    "    \"\"\"\n",
    "    # convert decimal degrees to radians \n",
    "    lon1, lat1, lon2, lat2 = map(radians, [lon1, lat1, lon2, lat2])\n",
    "    # haversine formula \n",
    "    dlon = lon2 - lon1 \n",
    "    dlat = lat2 - lat1 \n",
    "    a = sin(dlat/2)**2 + cos(lat1) * cos(lat2) * sin(dlon/2)**2\n",
    "    c = 2 * asin(sqrt(a)) \n",
    "    km = 6367 * c\n",
    "    return km\n",
    "\n",
    "\n",
    "for index, row in bike.iterrows():\n",
    "    bike.loc[index, 'distance'] = haversine(row['start_station_longitude'], row['start_station_latitude'], row['end_station_longitude'], row['end_station_latitude'])"
   ]
  },
  {
   "cell_type": "code",
   "execution_count": 6,
   "metadata": {
    "slideshow": {
     "slide_type": "skip"
    }
   },
   "outputs": [],
   "source": [
    "bike['duration_min'] = bike['duration_sec'] /60\n",
    "bike['duration_min'] = bike['duration_min'].astype(int)"
   ]
  },
  {
   "cell_type": "code",
   "execution_count": 7,
   "metadata": {
    "slideshow": {
     "slide_type": "skip"
    }
   },
   "outputs": [],
   "source": [
    "# convert the start time column to datatime data type\n",
    "bike['start_time'] = pd.to_datetime(bike['start_time'])\n",
    "\n",
    "# convert the end time column to datatime data type\n",
    "bike['end_time'] = pd.to_datetime(bike['end_time'])"
   ]
  },
  {
   "cell_type": "code",
   "execution_count": 8,
   "metadata": {
    "slideshow": {
     "slide_type": "skip"
    }
   },
   "outputs": [],
   "source": [
    "# get the day from the start date \n",
    "dow_map={0: 'Monday', \n",
    "    1: 'Tuesday', \n",
    "    2: 'Wednesday', \n",
    "    3: 'Thursday', \n",
    "    4: 'Friday',\n",
    "    5: 'Saturday', \n",
    "    6: 'Sunday' }\n",
    "\n",
    "bike['day_of_week'] = bike['start_time'].dt.dayofweek.map(dow_map)"
   ]
  },
  {
   "cell_type": "code",
   "execution_count": 9,
   "metadata": {
    "slideshow": {
     "slide_type": "skip"
    }
   },
   "outputs": [],
   "source": [
    "bike['member_birth_year'].replace(1878.0, 1978.0, inplace=True)\n",
    "\n",
    "# drop all null values in the dataset\n",
    "bike=bike.dropna()"
   ]
  },
  {
   "cell_type": "code",
   "execution_count": 10,
   "metadata": {
    "slideshow": {
     "slide_type": "skip"
    }
   },
   "outputs": [],
   "source": [
    "# convert the year datatype to int\n",
    "bike['member_birth_year'] = bike['member_birth_year'].astype(int)"
   ]
  },
  {
   "cell_type": "code",
   "execution_count": 11,
   "metadata": {
    "slideshow": {
     "slide_type": "skip"
    }
   },
   "outputs": [],
   "source": [
    "# records where age is older than 100 is probably error and is dropped\n",
    "above_max_age = bike[bike['member_birth_year'] <= (2022-100)].index\n",
    "bike.drop(above_max_age, inplace=True)"
   ]
  },
  {
   "cell_type": "code",
   "execution_count": 12,
   "metadata": {
    "slideshow": {
     "slide_type": "skip"
    }
   },
   "outputs": [
    {
     "data": {
      "text/plain": [
       "(174878, 19)"
      ]
     },
     "execution_count": 12,
     "metadata": {},
     "output_type": "execute_result"
    }
   ],
   "source": [
    "bike.shape"
   ]
  },
  {
   "cell_type": "code",
   "execution_count": 13,
   "metadata": {
    "slideshow": {
     "slide_type": "skip"
    }
   },
   "outputs": [],
   "source": [
    "# engineer the age from the birth year column\n",
    "bike['age'] = 2022 - bike['member_birth_year']"
   ]
  },
  {
   "cell_type": "code",
   "execution_count": 14,
   "metadata": {
    "slideshow": {
     "slide_type": "skip"
    }
   },
   "outputs": [],
   "source": [
    "# drop columns that will not be need for the exploration to answer the research question\n",
    "bike.drop(['duration_sec', 'start_time', 'end_time', 'start_station_id', 'start_station_latitude',\n",
    "          'start_station_longitude', 'end_station_id','end_station_latitude', 'end_station_longitude',\n",
    "          'bike_id', 'member_birth_year'], axis=1, inplace=True)"
   ]
  },
  {
   "cell_type": "code",
   "execution_count": 15,
   "metadata": {
    "slideshow": {
     "slide_type": "skip"
    }
   },
   "outputs": [],
   "source": [
    "# format the distance column to 2 dp\n",
    "bike['distance'] = bike['distance'].round(decimals=2)"
   ]
  },
  {
   "cell_type": "code",
   "execution_count": 16,
   "metadata": {
    "slideshow": {
     "slide_type": "skip"
    }
   },
   "outputs": [
    {
     "data": {
      "text/plain": [
       "(174878, 9)"
      ]
     },
     "execution_count": 16,
     "metadata": {},
     "output_type": "execute_result"
    }
   ],
   "source": [
    "bike.shape"
   ]
  },
  {
   "cell_type": "code",
   "execution_count": 17,
   "metadata": {
    "slideshow": {
     "slide_type": "skip"
    }
   },
   "outputs": [],
   "source": [
    "# convert the day of week to an ordered categorical variable of type weekday ordered from sunday to saturday\n",
    "weekday=['Sunday','Monday', 'Tuesday', 'Wednesday', 'Thursday', 'Friday', 'Saturday']\n",
    "ordered_days=pd.api.types.CategoricalDtype(ordered=True, categories=weekday)\n",
    "bike['day_of_week'] = bike['day_of_week'].astype(ordered_days)"
   ]
  },
  {
   "cell_type": "code",
   "execution_count": 18,
   "metadata": {
    "slideshow": {
     "slide_type": "skip"
    }
   },
   "outputs": [
    {
     "data": {
      "text/plain": [
       "(174878, 9)"
      ]
     },
     "execution_count": 18,
     "metadata": {},
     "output_type": "execute_result"
    }
   ],
   "source": [
    "bike.shape"
   ]
  },
  {
   "cell_type": "code",
   "execution_count": 19,
   "metadata": {
    "slideshow": {
     "slide_type": "skip"
    }
   },
   "outputs": [],
   "source": [
    "# engineer a speed column from the duration column\n",
    "bike['speed'] = bike['distance'] / bike['duration_min']"
   ]
  },
  {
   "cell_type": "code",
   "execution_count": 20,
   "metadata": {
    "slideshow": {
     "slide_type": "skip"
    }
   },
   "outputs": [
    {
     "name": "stdout",
     "output_type": "stream",
     "text": [
      "                                 start_station_name      end_station_name  \\\n",
      "85465  Powell St BART Station (Market St at 4th St)  Myrtle St at Polk St   \n",
      "\n",
      "        user_type member_gender bike_share_for_all_trip  distance  \\\n",
      "85465  Subscriber          Male                      No       0.1   \n",
      "\n",
      "       duration_min day_of_week  age     speed  \n",
      "85465          1409    Saturday   41  0.000071  \n"
     ]
    }
   ],
   "source": [
    "# find and drop rows were distance column had error values\n",
    "print(bike[bike['duration_min']== 1409])\n",
    "\n",
    "above_max_distance = bike[bike['distance'] == bike.distance.max()].index\n",
    "bike.drop(above_max_distance, inplace=True)"
   ]
  },
  {
   "cell_type": "code",
   "execution_count": 21,
   "metadata": {
    "slideshow": {
     "slide_type": "skip"
    }
   },
   "outputs": [
    {
     "data": {
      "text/plain": [
       "(174877, 10)"
      ]
     },
     "execution_count": 21,
     "metadata": {},
     "output_type": "execute_result"
    }
   ],
   "source": [
    "bike.shape"
   ]
  },
  {
   "cell_type": "code",
   "execution_count": 22,
   "metadata": {
    "slideshow": {
     "slide_type": "skip"
    }
   },
   "outputs": [],
   "source": [
    "# the record with the max speed value is impossible given the duration and also had duplicates\n",
    "bike[bike['speed'] == bike.speed.max()]\n",
    "\n",
    "# the record and its duplicates is dropped\n",
    "bike = bike.drop([29462, 147692])\n",
    "\n",
    "bike = bike[bike['distance'] != 0]\n",
    "\n",
    "# look for duplicates\n",
    "# bike.duplicated().sum()\n",
    "\n",
    "# drop duplicates\n",
    "bike = bike.drop_duplicates()\n",
    "\n",
    "# the record with the max speed value is impossible given the duration and also had duplicates\n",
    "bike[bike['speed'] == bike.speed.max()]\n",
    "\n",
    "\n",
    "# the record and its duplicates is dropped\n",
    "bike = bike.drop([49079])"
   ]
  },
  {
   "cell_type": "code",
   "execution_count": 23,
   "metadata": {
    "slideshow": {
     "slide_type": "skip"
    }
   },
   "outputs": [
    {
     "data": {
      "text/plain": [
       "(157219, 10)"
      ]
     },
     "execution_count": 23,
     "metadata": {},
     "output_type": "execute_result"
    }
   ],
   "source": [
    "bike.shape"
   ]
  },
  {
   "cell_type": "code",
   "execution_count": 24,
   "metadata": {
    "slideshow": {
     "slide_type": "skip"
    }
   },
   "outputs": [],
   "source": [
    "# look for records where the speed is greater than the average speed for an average bike rider\n",
    "bike[(bike['duration_min'] == 1) & (bike['speed'] >=0.70)]\n",
    "\n",
    "# drop the records\n",
    "bike = bike.drop([9508, 11898,13342,23008,48831,68544,87599,90652,129831,148547,156956,165499,174705,180705  ])"
   ]
  },
  {
   "cell_type": "code",
   "execution_count": 25,
   "metadata": {
    "slideshow": {
     "slide_type": "skip"
    }
   },
   "outputs": [
    {
     "data": {
      "text/plain": [
       "(157205, 10)"
      ]
     },
     "execution_count": 25,
     "metadata": {},
     "output_type": "execute_result"
    }
   ],
   "source": [
    "bike.shape"
   ]
  },
  {
   "cell_type": "code",
   "execution_count": 26,
   "metadata": {
    "slideshow": {
     "slide_type": "skip"
    }
   },
   "outputs": [
    {
     "data": {
      "text/html": [
       "<div>\n",
       "<style scoped>\n",
       "    .dataframe tbody tr th:only-of-type {\n",
       "        vertical-align: middle;\n",
       "    }\n",
       "\n",
       "    .dataframe tbody tr th {\n",
       "        vertical-align: top;\n",
       "    }\n",
       "\n",
       "    .dataframe thead th {\n",
       "        text-align: right;\n",
       "    }\n",
       "</style>\n",
       "<table border=\"1\" class=\"dataframe\">\n",
       "  <thead>\n",
       "    <tr style=\"text-align: right;\">\n",
       "      <th></th>\n",
       "      <th>distance</th>\n",
       "      <th>duration_min</th>\n",
       "      <th>age</th>\n",
       "      <th>speed</th>\n",
       "    </tr>\n",
       "  </thead>\n",
       "  <tbody>\n",
       "    <tr>\n",
       "      <th>count</th>\n",
       "      <td>157205.000000</td>\n",
       "      <td>157205.000000</td>\n",
       "      <td>157205.000000</td>\n",
       "      <td>157205.000000</td>\n",
       "    </tr>\n",
       "    <tr>\n",
       "      <th>mean</th>\n",
       "      <td>1.227861</td>\n",
       "      <td>11.170287</td>\n",
       "      <td>37.222207</td>\n",
       "      <td>0.137556</td>\n",
       "    </tr>\n",
       "    <tr>\n",
       "      <th>std</th>\n",
       "      <td>1.030648</td>\n",
       "      <td>26.525399</td>\n",
       "      <td>9.917825</td>\n",
       "      <td>0.083436</td>\n",
       "    </tr>\n",
       "    <tr>\n",
       "      <th>min</th>\n",
       "      <td>0.010000</td>\n",
       "      <td>1.000000</td>\n",
       "      <td>21.000000</td>\n",
       "      <td>0.000012</td>\n",
       "    </tr>\n",
       "    <tr>\n",
       "      <th>25%</th>\n",
       "      <td>0.480000</td>\n",
       "      <td>5.000000</td>\n",
       "      <td>30.000000</td>\n",
       "      <td>0.070000</td>\n",
       "    </tr>\n",
       "    <tr>\n",
       "      <th>50%</th>\n",
       "      <td>0.960000</td>\n",
       "      <td>8.000000</td>\n",
       "      <td>35.000000</td>\n",
       "      <td>0.135714</td>\n",
       "    </tr>\n",
       "    <tr>\n",
       "      <th>75%</th>\n",
       "      <td>1.680000</td>\n",
       "      <td>13.000000</td>\n",
       "      <td>42.000000</td>\n",
       "      <td>0.194286</td>\n",
       "    </tr>\n",
       "    <tr>\n",
       "      <th>max</th>\n",
       "      <td>8.910000</td>\n",
       "      <td>1409.000000</td>\n",
       "      <td>95.000000</td>\n",
       "      <td>0.680000</td>\n",
       "    </tr>\n",
       "  </tbody>\n",
       "</table>\n",
       "</div>"
      ],
      "text/plain": [
       "            distance   duration_min            age          speed\n",
       "count  157205.000000  157205.000000  157205.000000  157205.000000\n",
       "mean        1.227861      11.170287      37.222207       0.137556\n",
       "std         1.030648      26.525399       9.917825       0.083436\n",
       "min         0.010000       1.000000      21.000000       0.000012\n",
       "25%         0.480000       5.000000      30.000000       0.070000\n",
       "50%         0.960000       8.000000      35.000000       0.135714\n",
       "75%         1.680000      13.000000      42.000000       0.194286\n",
       "max         8.910000    1409.000000      95.000000       0.680000"
      ]
     },
     "execution_count": 26,
     "metadata": {},
     "output_type": "execute_result"
    }
   ],
   "source": [
    "bike.describe()"
   ]
  },
  {
   "cell_type": "code",
   "execution_count": 27,
   "metadata": {
    "slideshow": {
     "slide_type": "skip"
    }
   },
   "outputs": [
    {
     "data": {
      "text/html": [
       "<div>\n",
       "<style scoped>\n",
       "    .dataframe tbody tr th:only-of-type {\n",
       "        vertical-align: middle;\n",
       "    }\n",
       "\n",
       "    .dataframe tbody tr th {\n",
       "        vertical-align: top;\n",
       "    }\n",
       "\n",
       "    .dataframe thead th {\n",
       "        text-align: right;\n",
       "    }\n",
       "</style>\n",
       "<table border=\"1\" class=\"dataframe\">\n",
       "  <thead>\n",
       "    <tr style=\"text-align: right;\">\n",
       "      <th></th>\n",
       "      <th>start_station_name</th>\n",
       "      <th>end_station_name</th>\n",
       "      <th>user_type</th>\n",
       "      <th>member_gender</th>\n",
       "      <th>bike_share_for_all_trip</th>\n",
       "      <th>distance</th>\n",
       "      <th>duration_min</th>\n",
       "      <th>day_of_week</th>\n",
       "      <th>age</th>\n",
       "      <th>speed</th>\n",
       "    </tr>\n",
       "  </thead>\n",
       "  <tbody>\n",
       "    <tr>\n",
       "      <th>0</th>\n",
       "      <td>Montgomery St BART Station (Market St at 2nd St)</td>\n",
       "      <td>Commercial St at Montgomery St</td>\n",
       "      <td>Customer</td>\n",
       "      <td>Male</td>\n",
       "      <td>No</td>\n",
       "      <td>0.51</td>\n",
       "      <td>869</td>\n",
       "      <td>Thursday</td>\n",
       "      <td>38</td>\n",
       "      <td>0.000587</td>\n",
       "    </tr>\n",
       "    <tr>\n",
       "      <th>2</th>\n",
       "      <td>Market St at Dolores St</td>\n",
       "      <td>Powell St BART Station (Market St at 4th St)</td>\n",
       "      <td>Customer</td>\n",
       "      <td>Male</td>\n",
       "      <td>No</td>\n",
       "      <td>1.90</td>\n",
       "      <td>1030</td>\n",
       "      <td>Thursday</td>\n",
       "      <td>50</td>\n",
       "      <td>0.001845</td>\n",
       "    </tr>\n",
       "    <tr>\n",
       "      <th>3</th>\n",
       "      <td>Grove St at Masonic Ave</td>\n",
       "      <td>Central Ave at Fell St</td>\n",
       "      <td>Subscriber</td>\n",
       "      <td>Other</td>\n",
       "      <td>No</td>\n",
       "      <td>0.17</td>\n",
       "      <td>608</td>\n",
       "      <td>Thursday</td>\n",
       "      <td>33</td>\n",
       "      <td>0.000280</td>\n",
       "    </tr>\n",
       "    <tr>\n",
       "      <th>4</th>\n",
       "      <td>Frank H Ogawa Plaza</td>\n",
       "      <td>10th Ave at E 15th St</td>\n",
       "      <td>Subscriber</td>\n",
       "      <td>Male</td>\n",
       "      <td>Yes</td>\n",
       "      <td>1.32</td>\n",
       "      <td>26</td>\n",
       "      <td>Thursday</td>\n",
       "      <td>48</td>\n",
       "      <td>0.050769</td>\n",
       "    </tr>\n",
       "    <tr>\n",
       "      <th>5</th>\n",
       "      <td>4th St at Mission Bay Blvd S</td>\n",
       "      <td>Broadway at Kearny</td>\n",
       "      <td>Subscriber</td>\n",
       "      <td>Male</td>\n",
       "      <td>No</td>\n",
       "      <td>3.07</td>\n",
       "      <td>29</td>\n",
       "      <td>Thursday</td>\n",
       "      <td>63</td>\n",
       "      <td>0.105862</td>\n",
       "    </tr>\n",
       "  </tbody>\n",
       "</table>\n",
       "</div>"
      ],
      "text/plain": [
       "                                 start_station_name  \\\n",
       "0  Montgomery St BART Station (Market St at 2nd St)   \n",
       "2                           Market St at Dolores St   \n",
       "3                           Grove St at Masonic Ave   \n",
       "4                               Frank H Ogawa Plaza   \n",
       "5                      4th St at Mission Bay Blvd S   \n",
       "\n",
       "                               end_station_name   user_type member_gender  \\\n",
       "0                Commercial St at Montgomery St    Customer          Male   \n",
       "2  Powell St BART Station (Market St at 4th St)    Customer          Male   \n",
       "3                        Central Ave at Fell St  Subscriber         Other   \n",
       "4                         10th Ave at E 15th St  Subscriber          Male   \n",
       "5                            Broadway at Kearny  Subscriber          Male   \n",
       "\n",
       "  bike_share_for_all_trip  distance  duration_min day_of_week  age     speed  \n",
       "0                      No      0.51           869    Thursday   38  0.000587  \n",
       "2                      No      1.90          1030    Thursday   50  0.001845  \n",
       "3                      No      0.17           608    Thursday   33  0.000280  \n",
       "4                     Yes      1.32            26    Thursday   48  0.050769  \n",
       "5                      No      3.07            29    Thursday   63  0.105862  "
      ]
     },
     "execution_count": 27,
     "metadata": {},
     "output_type": "execute_result"
    }
   ],
   "source": [
    "bike.head()"
   ]
  },
  {
   "cell_type": "code",
   "execution_count": null,
   "metadata": {
    "slideshow": {
     "slide_type": "skip"
    }
   },
   "outputs": [],
   "source": []
  },
  {
   "cell_type": "markdown",
   "metadata": {
    "slideshow": {
     "slide_type": "slide"
    }
   },
   "source": [
    "## Distribution of minutes spent on bike\n",
    "\n",
    "\n",
    ">The values of the  minutes had large range of values from, from 0 to about 1500.This distribution is plotted on a logarithmic scale and the distribution is multimodal"
   ]
  },
  {
   "cell_type": "code",
   "execution_count": 28,
   "metadata": {
    "slideshow": {
     "slide_type": "subslide"
    }
   },
   "outputs": [
    {
     "data": {
      "image/png": "[encoded data removed]",
      "text/plain": [
       "<Figure size 576x360 with 1 Axes>"
      ]
     },
     "metadata": {
      "needs_background": "light"
     },
     "output_type": "display_data"
    }
   ],
   "source": [
    "# set bins and plot the log transform histogram\n",
    "bins = np.arange(0, bike['duration_min'].max()+ 20,20)\n",
    "plt.figure(figsize=[8, 5])\n",
    "plt.hist(data = bike, x = 'duration_min',bins=bins);\n",
    "plt.title('Distribution of Time spent on Bikes');\n",
    "plt.xlabel('duration (mins)');\n",
    "plt.ylabel('counts (1k =1000)');\n",
    "plt.yscale('log')\n",
    "plt.yticks([10**0, 10**1,10**2,10**3,10**4,10**5], ['1','10','100','1k','10k','100k']);\n",
    "# plt.xlim(800, 1400)"
   ]
  },
  {
   "cell_type": "markdown",
   "metadata": {
    "collapsed": true,
    "slideshow": {
     "slide_type": "slide"
    }
   },
   "source": [
    "## Distribution of Distance rode on Bike\n",
    "\n",
    ">The distance is measured in kilometers. It is a unimodal distribution with the bulk of the distribution occuring between 0 and 10 km."
   ]
  },
  {
   "cell_type": "code",
   "execution_count": 29,
   "metadata": {
    "slideshow": {
     "slide_type": "subslide"
    }
   },
   "outputs": [
    {
     "data": {
      "image/png": "[encoded data removed]",
      "text/plain": [
       "<Figure size 576x360 with 1 Axes>"
      ]
     },
     "metadata": {
      "needs_background": "light"
     },
     "output_type": "display_data"
    }
   ],
   "source": [
    "# set bins and plot histogram\n",
    "bins = np.arange(0, bike['distance'].max()+ 0.2,0.2)\n",
    "plt.figure(figsize=[8, 5])\n",
    "plt.hist(data = bike, x = 'distance',bins=bins);\n",
    "plt.xlabel('distance (km)');\n",
    "plt.ylabel('counts (1k =1000)');\n",
    "plt.yscale('log')\n",
    "plt.yticks([10**0, 10**1,10**2,10**3,10**4,10**5], ['1','10','100','1k','10k','100k']);\n",
    "plt.title('Distribution of Distance rode on bike');"
   ]
  },
  {
   "cell_type": "markdown",
   "metadata": {
    "slideshow": {
     "slide_type": "slide"
    }
   },
   "source": [
    "## Distribution of Members who use bike share for all their trips.\n",
    "\n",
    "There are more than 140,000 pepople who are not using bike share for all their trips and less than 20,000 who are using it for all their trips"
   ]
  },
  {
   "cell_type": "code",
   "execution_count": 30,
   "metadata": {
    "slideshow": {
     "slide_type": "subslide"
    }
   },
   "outputs": [
    {
     "data": {
      "image/png": "[encoded data removed]",
      "text/plain": [
       "<Figure size 432x288 with 1 Axes>"
      ]
     },
     "metadata": {
      "needs_background": "light"
     },
     "output_type": "display_data"
    }
   ],
   "source": [
    "color=sb.color_palette()[4]\n",
    "\n",
    "sb.countplot(data=bike, x='bike_share_for_all_trip', color=color).set(title='Distribution of the bike_share_for_all_trip feature');"
   ]
  },
  {
   "cell_type": "markdown",
   "metadata": {
    "slideshow": {
     "slide_type": "slide"
    }
   },
   "source": [
    "## Duration by Bike share for all trips and gender\n",
    "\n",
    "It is seen here that the other genders who did not use bike share for all their trips spend almost 17.5 mins on average on bikes  which is the highest amount of time by any gender. The males spend 10 mins on average on bike, both for all their trips and part of their trips each."
   ]
  },
  {
   "cell_type": "code",
   "execution_count": 31,
   "metadata": {
    "slideshow": {
     "slide_type": "subslide"
    }
   },
   "outputs": [
    {
     "data": {
      "image/png": "[encoded data removed]",
      "text/plain": [
       "<Figure size 432x288 with 1 Axes>"
      ]
     },
     "metadata": {
      "needs_background": "light"
     },
     "output_type": "display_data"
    }
   ],
   "source": [
    "# plt.rcParams.update({'font.size': 11}) # must set in top\n",
    "ax = sb.barplot(data=bike, x='bike_share_for_all_trip', y='duration_min', hue='member_gender', errwidth=0)\n",
    "plt.legend(loc='center left', bbox_to_anchor=(1.0, 0.5));\n",
    "plt.title(' Duration by Bike share for all trips and gender');"
   ]
  },
  {
   "cell_type": "markdown",
   "metadata": {
    "slideshow": {
     "slide_type": "slide"
    }
   },
   "source": [
    "## Duration by Bike share for all trips and user type\n",
    "\n",
    "All the customers did not use bike share for all their trips hence they spent at an average almost 20 min of their time on bikes. The customers on the other hand spend 10 min each whether they are using it for all their trips or only part of their trip."
   ]
  },
  {
   "cell_type": "code",
   "execution_count": 32,
   "metadata": {
    "slideshow": {
     "slide_type": "subslide"
    }
   },
   "outputs": [
    {
     "data": {
      "image/png": "[encoded data removed]",
      "text/plain": [
       "<Figure size 432x288 with 1 Axes>"
      ]
     },
     "metadata": {
      "needs_background": "light"
     },
     "output_type": "display_data"
    }
   ],
   "source": [
    "# plt.figure(figsize=(15,14))\n",
    "# plt.rcParams.update({'font.size': 11}) # must set in top\n",
    "ax = sb.barplot(data=bike, x='bike_share_for_all_trip', y='duration_min', hue='user_type', errwidth=0)\n",
    "plt.legend(loc='center left', bbox_to_anchor=(1.0, 0.5));\n",
    "plt.title('Duration by Bike share for all trips and user type');"
   ]
  },
  {
   "cell_type": "markdown",
   "metadata": {
    "slideshow": {
     "slide_type": "slide"
    }
   },
   "source": [
    "## Duration by Bike share for all trips and days of the week\n",
    "\n",
    "saturdays and sundays are when people spend the most time on bikes. People spend an average of 13 mins on bikes on saturdays and sundays.When they do not use bikes for all their trips, they spend an average of 12min as well."
   ]
  },
  {
   "cell_type": "code",
   "execution_count": 33,
   "metadata": {
    "slideshow": {
     "slide_type": "subslide"
    }
   },
   "outputs": [
    {
     "data": {
      "image/png": "[encoded data removed]",
      "text/plain": [
       "<Figure size 432x288 with 1 Axes>"
      ]
     },
     "metadata": {
      "needs_background": "light"
     },
     "output_type": "display_data"
    }
   ],
   "source": [
    "bike_share_no = bike.where(bike['bike_share_for_all_trip'] == 'No')\n",
    "\n",
    "ax = sb.barplot(data=bike_share_no, x='bike_share_for_all_trip', y='duration_min', hue='day_of_week', errwidth=0);\n",
    "plt.legend(loc='center left', bbox_to_anchor=(1.0, 0.5));\n",
    "plt.title('Duration by No Bike share for all trips and days of the week');"
   ]
  },
  {
   "cell_type": "code",
   "execution_count": 34,
   "metadata": {
    "slideshow": {
     "slide_type": "subslide"
    }
   },
   "outputs": [
    {
     "data": {
      "image/png": "[encoded data removed]",
      "text/plain": [
       "<Figure size 432x288 with 1 Axes>"
      ]
     },
     "metadata": {
      "needs_background": "light"
     },
     "output_type": "display_data"
    }
   ],
   "source": [
    "bike_share_yes = bike.where(bike['bike_share_for_all_trip'] == 'Yes')\n",
    "\n",
    "ax = sb.barplot(data=bike_share_yes, x='bike_share_for_all_trip', y='duration_min', hue='day_of_week', errwidth=0);\n",
    "plt.legend(loc='center left', bbox_to_anchor=(1.0, 0.5));\n",
    "plt.title('Duration by Yes Bike share for all trips and days of the week');"
   ]
  },
  {
   "cell_type": "code",
   "execution_count": null,
   "metadata": {
    "slideshow": {
     "slide_type": "-"
    }
   },
   "outputs": [],
   "source": [
    "!jupyter nbconvert Bike_Transport_Project_Pt2.ipynb --to slides --post serve --no-input --no-prompt"
   ]
  },
  {
   "cell_type": "code",
   "execution_count": null,
   "metadata": {},
   "outputs": [],
   "source": []
  }
 ],
 "metadata": {
  "celltoolbar": "Slideshow",
  "kernelspec": {
   "display_name": "Python 3 (ipykernel)",
   "language": "python",
   "name": "python3"
  },
  "language_info": {
   "codemirror_mode": {
    "name": "ipython",
    "version": 3
   },
   "file_extension": ".py",
   "mimetype": "text/x-python",
   "name": "python",
   "nbconvert_exporter": "python",
   "pygments_lexer": "ipython3",
   "version": "3.9.12"
  }
 },
 "nbformat": 4,
 "nbformat_minor": 2
}
